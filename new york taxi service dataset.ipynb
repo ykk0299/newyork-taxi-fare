{
 "cells": [
  {
   "cell_type": "code",
   "execution_count": 1,
   "id": "4dd4d2dd",
   "metadata": {},
   "outputs": [],
   "source": [
    "import pandas as pd\n",
    "import numpy as np\n",
    "import matplotlib.pyplot as plt\n",
    "import seaborn as sns"
   ]
  },
  {
   "cell_type": "code",
   "execution_count": 2,
   "id": "0534a267",
   "metadata": {},
   "outputs": [
    {
     "name": "stdout",
     "output_type": "stream",
     "text": [
      "C:\\Users\\ykkou\\Desktop\\imarticus\\Tutorial Datasets\n"
     ]
    }
   ],
   "source": [
    "import io\n",
    "%cd \"C:\\Users\\ykkou\\Desktop\\imarticus\\Tutorial Datasets\"\n"
   ]
  },
  {
   "cell_type": "code",
   "execution_count": 3,
   "id": "17c64fc6",
   "metadata": {},
   "outputs": [
    {
     "name": "stdout",
     "output_type": "stream",
     "text": [
      "Requirement already satisfied: pyarrow in c:\\users\\ykkou\\anaconda3\\lib\\site-packages (12.0.0)\n",
      "Requirement already satisfied: numpy>=1.16.6 in c:\\users\\ykkou\\anaconda3\\lib\\site-packages (from pyarrow) (1.21.5)\n"
     ]
    }
   ],
   "source": [
    "!pip install pyarrow"
   ]
  },
  {
   "cell_type": "code",
   "execution_count": 4,
   "id": "732fde13",
   "metadata": {},
   "outputs": [],
   "source": [
    "df = pd.read_parquet('green_tripdata_2023-02.parquet',engine='pyarrow')"
   ]
  },
  {
   "cell_type": "code",
   "execution_count": 5,
   "id": "544af962",
   "metadata": {},
   "outputs": [
    {
     "data": {
      "text/html": [
       "<div>\n",
       "<style scoped>\n",
       "    .dataframe tbody tr th:only-of-type {\n",
       "        vertical-align: middle;\n",
       "    }\n",
       "\n",
       "    .dataframe tbody tr th {\n",
       "        vertical-align: top;\n",
       "    }\n",
       "\n",
       "    .dataframe thead th {\n",
       "        text-align: right;\n",
       "    }\n",
       "</style>\n",
       "<table border=\"1\" class=\"dataframe\">\n",
       "  <thead>\n",
       "    <tr style=\"text-align: right;\">\n",
       "      <th></th>\n",
       "      <th>VendorID</th>\n",
       "      <th>lpep_pickup_datetime</th>\n",
       "      <th>lpep_dropoff_datetime</th>\n",
       "      <th>store_and_fwd_flag</th>\n",
       "      <th>RatecodeID</th>\n",
       "      <th>PULocationID</th>\n",
       "      <th>DOLocationID</th>\n",
       "      <th>passenger_count</th>\n",
       "      <th>trip_distance</th>\n",
       "      <th>fare_amount</th>\n",
       "      <th>extra</th>\n",
       "      <th>mta_tax</th>\n",
       "      <th>tip_amount</th>\n",
       "      <th>tolls_amount</th>\n",
       "      <th>ehail_fee</th>\n",
       "      <th>improvement_surcharge</th>\n",
       "      <th>total_amount</th>\n",
       "      <th>payment_type</th>\n",
       "      <th>trip_type</th>\n",
       "      <th>congestion_surcharge</th>\n",
       "    </tr>\n",
       "  </thead>\n",
       "  <tbody>\n",
       "    <tr>\n",
       "      <th>0</th>\n",
       "      <td>1</td>\n",
       "      <td>2023-02-01 00:46:22</td>\n",
       "      <td>2023-02-01 01:05:57</td>\n",
       "      <td>N</td>\n",
       "      <td>1.0</td>\n",
       "      <td>74</td>\n",
       "      <td>265</td>\n",
       "      <td>1.0</td>\n",
       "      <td>10.80</td>\n",
       "      <td>42.90</td>\n",
       "      <td>1.0</td>\n",
       "      <td>1.5</td>\n",
       "      <td>0.00</td>\n",
       "      <td>0.0</td>\n",
       "      <td>NaN</td>\n",
       "      <td>1.0</td>\n",
       "      <td>45.40</td>\n",
       "      <td>2.0</td>\n",
       "      <td>1.0</td>\n",
       "      <td>0.00</td>\n",
       "    </tr>\n",
       "    <tr>\n",
       "      <th>1</th>\n",
       "      <td>2</td>\n",
       "      <td>2023-02-01 00:05:09</td>\n",
       "      <td>2023-02-01 00:22:42</td>\n",
       "      <td>N</td>\n",
       "      <td>1.0</td>\n",
       "      <td>216</td>\n",
       "      <td>196</td>\n",
       "      <td>1.0</td>\n",
       "      <td>4.76</td>\n",
       "      <td>23.30</td>\n",
       "      <td>1.0</td>\n",
       "      <td>0.5</td>\n",
       "      <td>0.00</td>\n",
       "      <td>0.0</td>\n",
       "      <td>NaN</td>\n",
       "      <td>1.0</td>\n",
       "      <td>25.80</td>\n",
       "      <td>2.0</td>\n",
       "      <td>1.0</td>\n",
       "      <td>0.00</td>\n",
       "    </tr>\n",
       "    <tr>\n",
       "      <th>2</th>\n",
       "      <td>2</td>\n",
       "      <td>2023-02-01 00:03:47</td>\n",
       "      <td>2023-02-01 00:27:30</td>\n",
       "      <td>N</td>\n",
       "      <td>1.0</td>\n",
       "      <td>7</td>\n",
       "      <td>114</td>\n",
       "      <td>1.0</td>\n",
       "      <td>6.32</td>\n",
       "      <td>30.30</td>\n",
       "      <td>1.0</td>\n",
       "      <td>0.5</td>\n",
       "      <td>8.89</td>\n",
       "      <td>0.0</td>\n",
       "      <td>NaN</td>\n",
       "      <td>1.0</td>\n",
       "      <td>44.44</td>\n",
       "      <td>1.0</td>\n",
       "      <td>1.0</td>\n",
       "      <td>2.75</td>\n",
       "    </tr>\n",
       "    <tr>\n",
       "      <th>3</th>\n",
       "      <td>2</td>\n",
       "      <td>2023-01-31 23:30:56</td>\n",
       "      <td>2023-01-31 23:51:40</td>\n",
       "      <td>N</td>\n",
       "      <td>1.0</td>\n",
       "      <td>74</td>\n",
       "      <td>239</td>\n",
       "      <td>1.0</td>\n",
       "      <td>3.50</td>\n",
       "      <td>16.30</td>\n",
       "      <td>1.0</td>\n",
       "      <td>0.5</td>\n",
       "      <td>0.00</td>\n",
       "      <td>0.0</td>\n",
       "      <td>NaN</td>\n",
       "      <td>1.0</td>\n",
       "      <td>21.55</td>\n",
       "      <td>2.0</td>\n",
       "      <td>1.0</td>\n",
       "      <td>2.75</td>\n",
       "    </tr>\n",
       "    <tr>\n",
       "      <th>4</th>\n",
       "      <td>2</td>\n",
       "      <td>2023-02-01 00:15:05</td>\n",
       "      <td>2023-02-01 00:26:02</td>\n",
       "      <td>N</td>\n",
       "      <td>1.0</td>\n",
       "      <td>82</td>\n",
       "      <td>223</td>\n",
       "      <td>1.0</td>\n",
       "      <td>3.14</td>\n",
       "      <td>17.00</td>\n",
       "      <td>1.0</td>\n",
       "      <td>0.5</td>\n",
       "      <td>0.00</td>\n",
       "      <td>0.0</td>\n",
       "      <td>NaN</td>\n",
       "      <td>1.0</td>\n",
       "      <td>19.50</td>\n",
       "      <td>2.0</td>\n",
       "      <td>1.0</td>\n",
       "      <td>0.00</td>\n",
       "    </tr>\n",
       "    <tr>\n",
       "      <th>...</th>\n",
       "      <td>...</td>\n",
       "      <td>...</td>\n",
       "      <td>...</td>\n",
       "      <td>...</td>\n",
       "      <td>...</td>\n",
       "      <td>...</td>\n",
       "      <td>...</td>\n",
       "      <td>...</td>\n",
       "      <td>...</td>\n",
       "      <td>...</td>\n",
       "      <td>...</td>\n",
       "      <td>...</td>\n",
       "      <td>...</td>\n",
       "      <td>...</td>\n",
       "      <td>...</td>\n",
       "      <td>...</td>\n",
       "      <td>...</td>\n",
       "      <td>...</td>\n",
       "      <td>...</td>\n",
       "      <td>...</td>\n",
       "    </tr>\n",
       "    <tr>\n",
       "      <th>64804</th>\n",
       "      <td>2</td>\n",
       "      <td>2023-02-28 21:49:00</td>\n",
       "      <td>2023-02-28 22:04:00</td>\n",
       "      <td>None</td>\n",
       "      <td>NaN</td>\n",
       "      <td>7</td>\n",
       "      <td>263</td>\n",
       "      <td>NaN</td>\n",
       "      <td>3.83</td>\n",
       "      <td>16.70</td>\n",
       "      <td>0.0</td>\n",
       "      <td>0.0</td>\n",
       "      <td>2.00</td>\n",
       "      <td>0.0</td>\n",
       "      <td>NaN</td>\n",
       "      <td>1.0</td>\n",
       "      <td>22.45</td>\n",
       "      <td>NaN</td>\n",
       "      <td>NaN</td>\n",
       "      <td>NaN</td>\n",
       "    </tr>\n",
       "    <tr>\n",
       "      <th>64805</th>\n",
       "      <td>2</td>\n",
       "      <td>2023-02-28 21:05:00</td>\n",
       "      <td>2023-02-28 21:08:00</td>\n",
       "      <td>None</td>\n",
       "      <td>NaN</td>\n",
       "      <td>41</td>\n",
       "      <td>42</td>\n",
       "      <td>NaN</td>\n",
       "      <td>0.67</td>\n",
       "      <td>12.95</td>\n",
       "      <td>0.0</td>\n",
       "      <td>0.0</td>\n",
       "      <td>2.79</td>\n",
       "      <td>0.0</td>\n",
       "      <td>NaN</td>\n",
       "      <td>1.0</td>\n",
       "      <td>16.74</td>\n",
       "      <td>NaN</td>\n",
       "      <td>NaN</td>\n",
       "      <td>NaN</td>\n",
       "    </tr>\n",
       "    <tr>\n",
       "      <th>64806</th>\n",
       "      <td>2</td>\n",
       "      <td>2023-02-28 22:42:00</td>\n",
       "      <td>2023-02-28 22:59:00</td>\n",
       "      <td>None</td>\n",
       "      <td>NaN</td>\n",
       "      <td>166</td>\n",
       "      <td>141</td>\n",
       "      <td>NaN</td>\n",
       "      <td>3.91</td>\n",
       "      <td>19.60</td>\n",
       "      <td>0.0</td>\n",
       "      <td>0.0</td>\n",
       "      <td>3.50</td>\n",
       "      <td>0.0</td>\n",
       "      <td>NaN</td>\n",
       "      <td>1.0</td>\n",
       "      <td>26.85</td>\n",
       "      <td>NaN</td>\n",
       "      <td>NaN</td>\n",
       "      <td>NaN</td>\n",
       "    </tr>\n",
       "    <tr>\n",
       "      <th>64807</th>\n",
       "      <td>2</td>\n",
       "      <td>2023-02-28 23:21:00</td>\n",
       "      <td>2023-02-28 23:38:00</td>\n",
       "      <td>None</td>\n",
       "      <td>NaN</td>\n",
       "      <td>41</td>\n",
       "      <td>244</td>\n",
       "      <td>NaN</td>\n",
       "      <td>4.54</td>\n",
       "      <td>19.36</td>\n",
       "      <td>0.0</td>\n",
       "      <td>0.0</td>\n",
       "      <td>4.07</td>\n",
       "      <td>0.0</td>\n",
       "      <td>NaN</td>\n",
       "      <td>1.0</td>\n",
       "      <td>24.43</td>\n",
       "      <td>NaN</td>\n",
       "      <td>NaN</td>\n",
       "      <td>NaN</td>\n",
       "    </tr>\n",
       "    <tr>\n",
       "      <th>64808</th>\n",
       "      <td>2</td>\n",
       "      <td>2023-02-28 23:10:00</td>\n",
       "      <td>2023-02-28 23:15:00</td>\n",
       "      <td>None</td>\n",
       "      <td>NaN</td>\n",
       "      <td>75</td>\n",
       "      <td>140</td>\n",
       "      <td>NaN</td>\n",
       "      <td>2.61</td>\n",
       "      <td>13.18</td>\n",
       "      <td>0.0</td>\n",
       "      <td>0.0</td>\n",
       "      <td>3.39</td>\n",
       "      <td>0.0</td>\n",
       "      <td>NaN</td>\n",
       "      <td>1.0</td>\n",
       "      <td>20.32</td>\n",
       "      <td>NaN</td>\n",
       "      <td>NaN</td>\n",
       "      <td>NaN</td>\n",
       "    </tr>\n",
       "  </tbody>\n",
       "</table>\n",
       "<p>64809 rows × 20 columns</p>\n",
       "</div>"
      ],
      "text/plain": [
       "       VendorID lpep_pickup_datetime lpep_dropoff_datetime store_and_fwd_flag  \\\n",
       "0             1  2023-02-01 00:46:22   2023-02-01 01:05:57                  N   \n",
       "1             2  2023-02-01 00:05:09   2023-02-01 00:22:42                  N   \n",
       "2             2  2023-02-01 00:03:47   2023-02-01 00:27:30                  N   \n",
       "3             2  2023-01-31 23:30:56   2023-01-31 23:51:40                  N   \n",
       "4             2  2023-02-01 00:15:05   2023-02-01 00:26:02                  N   \n",
       "...         ...                  ...                   ...                ...   \n",
       "64804         2  2023-02-28 21:49:00   2023-02-28 22:04:00               None   \n",
       "64805         2  2023-02-28 21:05:00   2023-02-28 21:08:00               None   \n",
       "64806         2  2023-02-28 22:42:00   2023-02-28 22:59:00               None   \n",
       "64807         2  2023-02-28 23:21:00   2023-02-28 23:38:00               None   \n",
       "64808         2  2023-02-28 23:10:00   2023-02-28 23:15:00               None   \n",
       "\n",
       "       RatecodeID  PULocationID  DOLocationID  passenger_count  trip_distance  \\\n",
       "0             1.0            74           265              1.0          10.80   \n",
       "1             1.0           216           196              1.0           4.76   \n",
       "2             1.0             7           114              1.0           6.32   \n",
       "3             1.0            74           239              1.0           3.50   \n",
       "4             1.0            82           223              1.0           3.14   \n",
       "...           ...           ...           ...              ...            ...   \n",
       "64804         NaN             7           263              NaN           3.83   \n",
       "64805         NaN            41            42              NaN           0.67   \n",
       "64806         NaN           166           141              NaN           3.91   \n",
       "64807         NaN            41           244              NaN           4.54   \n",
       "64808         NaN            75           140              NaN           2.61   \n",
       "\n",
       "       fare_amount  extra  mta_tax  tip_amount  tolls_amount  ehail_fee  \\\n",
       "0            42.90    1.0      1.5        0.00           0.0        NaN   \n",
       "1            23.30    1.0      0.5        0.00           0.0        NaN   \n",
       "2            30.30    1.0      0.5        8.89           0.0        NaN   \n",
       "3            16.30    1.0      0.5        0.00           0.0        NaN   \n",
       "4            17.00    1.0      0.5        0.00           0.0        NaN   \n",
       "...            ...    ...      ...         ...           ...        ...   \n",
       "64804        16.70    0.0      0.0        2.00           0.0        NaN   \n",
       "64805        12.95    0.0      0.0        2.79           0.0        NaN   \n",
       "64806        19.60    0.0      0.0        3.50           0.0        NaN   \n",
       "64807        19.36    0.0      0.0        4.07           0.0        NaN   \n",
       "64808        13.18    0.0      0.0        3.39           0.0        NaN   \n",
       "\n",
       "       improvement_surcharge  total_amount  payment_type  trip_type  \\\n",
       "0                        1.0         45.40           2.0        1.0   \n",
       "1                        1.0         25.80           2.0        1.0   \n",
       "2                        1.0         44.44           1.0        1.0   \n",
       "3                        1.0         21.55           2.0        1.0   \n",
       "4                        1.0         19.50           2.0        1.0   \n",
       "...                      ...           ...           ...        ...   \n",
       "64804                    1.0         22.45           NaN        NaN   \n",
       "64805                    1.0         16.74           NaN        NaN   \n",
       "64806                    1.0         26.85           NaN        NaN   \n",
       "64807                    1.0         24.43           NaN        NaN   \n",
       "64808                    1.0         20.32           NaN        NaN   \n",
       "\n",
       "       congestion_surcharge  \n",
       "0                      0.00  \n",
       "1                      0.00  \n",
       "2                      2.75  \n",
       "3                      2.75  \n",
       "4                      0.00  \n",
       "...                     ...  \n",
       "64804                   NaN  \n",
       "64805                   NaN  \n",
       "64806                   NaN  \n",
       "64807                   NaN  \n",
       "64808                   NaN  \n",
       "\n",
       "[64809 rows x 20 columns]"
      ]
     },
     "execution_count": 5,
     "metadata": {},
     "output_type": "execute_result"
    }
   ],
   "source": [
    "df"
   ]
  },
  {
   "cell_type": "code",
   "execution_count": 6,
   "id": "d66ae11d",
   "metadata": {},
   "outputs": [
    {
     "name": "stdout",
     "output_type": "stream",
     "text": [
      "<class 'pandas.core.frame.DataFrame'>\n",
      "RangeIndex: 64809 entries, 0 to 64808\n",
      "Data columns (total 20 columns):\n",
      " #   Column                 Non-Null Count  Dtype         \n",
      "---  ------                 --------------  -----         \n",
      " 0   VendorID               64809 non-null  int32         \n",
      " 1   lpep_pickup_datetime   64809 non-null  datetime64[ns]\n",
      " 2   lpep_dropoff_datetime  64809 non-null  datetime64[ns]\n",
      " 3   store_and_fwd_flag     59988 non-null  object        \n",
      " 4   RatecodeID             59988 non-null  float64       \n",
      " 5   PULocationID           64809 non-null  int32         \n",
      " 6   DOLocationID           64809 non-null  int32         \n",
      " 7   passenger_count        59988 non-null  float64       \n",
      " 8   trip_distance          64809 non-null  float64       \n",
      " 9   fare_amount            64809 non-null  float64       \n",
      " 10  extra                  64809 non-null  float64       \n",
      " 11  mta_tax                64809 non-null  float64       \n",
      " 12  tip_amount             64809 non-null  float64       \n",
      " 13  tolls_amount           64809 non-null  float64       \n",
      " 14  ehail_fee              0 non-null      float64       \n",
      " 15  improvement_surcharge  64809 non-null  float64       \n",
      " 16  total_amount           64809 non-null  float64       \n",
      " 17  payment_type           59988 non-null  float64       \n",
      " 18  trip_type              59983 non-null  float64       \n",
      " 19  congestion_surcharge   59988 non-null  float64       \n",
      "dtypes: datetime64[ns](2), float64(14), int32(3), object(1)\n",
      "memory usage: 9.1+ MB\n"
     ]
    }
   ],
   "source": [
    "df.info()"
   ]
  },
  {
   "cell_type": "code",
   "execution_count": 7,
   "id": "ded3de48",
   "metadata": {},
   "outputs": [],
   "source": [
    "df.drop('ehail_fee',axis=1,inplace=True)\n"
   ]
  },
  {
   "cell_type": "code",
   "execution_count": 8,
   "id": "35fcc441",
   "metadata": {},
   "outputs": [
    {
     "data": {
      "text/plain": [
       "(29740, 33416)"
      ]
     },
     "execution_count": 8,
     "metadata": {},
     "output_type": "execute_result"
    }
   ],
   "source": [
    "df.PULocationID.unique().sum(),df.DOLocationID.unique().sum()"
   ]
  },
  {
   "cell_type": "code",
   "execution_count": 9,
   "id": "76d2b8c5",
   "metadata": {},
   "outputs": [],
   "source": [
    "percent_missing = df.isnull().sum() * 100 / len(df)\n",
    "missing_value_df = pd.DataFrame({'column_name': df.columns,\n",
    "                                 'percent_missing': percent_missing})"
   ]
  },
  {
   "cell_type": "code",
   "execution_count": 10,
   "id": "71d9473f",
   "metadata": {},
   "outputs": [
    {
     "data": {
      "text/html": [
       "<div>\n",
       "<style scoped>\n",
       "    .dataframe tbody tr th:only-of-type {\n",
       "        vertical-align: middle;\n",
       "    }\n",
       "\n",
       "    .dataframe tbody tr th {\n",
       "        vertical-align: top;\n",
       "    }\n",
       "\n",
       "    .dataframe thead th {\n",
       "        text-align: right;\n",
       "    }\n",
       "</style>\n",
       "<table border=\"1\" class=\"dataframe\">\n",
       "  <thead>\n",
       "    <tr style=\"text-align: right;\">\n",
       "      <th></th>\n",
       "      <th>column_name</th>\n",
       "      <th>percent_missing</th>\n",
       "    </tr>\n",
       "  </thead>\n",
       "  <tbody>\n",
       "    <tr>\n",
       "      <th>trip_type</th>\n",
       "      <td>trip_type</td>\n",
       "      <td>7.446497</td>\n",
       "    </tr>\n",
       "    <tr>\n",
       "      <th>congestion_surcharge</th>\n",
       "      <td>congestion_surcharge</td>\n",
       "      <td>7.438782</td>\n",
       "    </tr>\n",
       "    <tr>\n",
       "      <th>store_and_fwd_flag</th>\n",
       "      <td>store_and_fwd_flag</td>\n",
       "      <td>7.438782</td>\n",
       "    </tr>\n",
       "    <tr>\n",
       "      <th>RatecodeID</th>\n",
       "      <td>RatecodeID</td>\n",
       "      <td>7.438782</td>\n",
       "    </tr>\n",
       "    <tr>\n",
       "      <th>payment_type</th>\n",
       "      <td>payment_type</td>\n",
       "      <td>7.438782</td>\n",
       "    </tr>\n",
       "    <tr>\n",
       "      <th>passenger_count</th>\n",
       "      <td>passenger_count</td>\n",
       "      <td>7.438782</td>\n",
       "    </tr>\n",
       "    <tr>\n",
       "      <th>mta_tax</th>\n",
       "      <td>mta_tax</td>\n",
       "      <td>0.000000</td>\n",
       "    </tr>\n",
       "    <tr>\n",
       "      <th>total_amount</th>\n",
       "      <td>total_amount</td>\n",
       "      <td>0.000000</td>\n",
       "    </tr>\n",
       "    <tr>\n",
       "      <th>improvement_surcharge</th>\n",
       "      <td>improvement_surcharge</td>\n",
       "      <td>0.000000</td>\n",
       "    </tr>\n",
       "    <tr>\n",
       "      <th>tolls_amount</th>\n",
       "      <td>tolls_amount</td>\n",
       "      <td>0.000000</td>\n",
       "    </tr>\n",
       "    <tr>\n",
       "      <th>tip_amount</th>\n",
       "      <td>tip_amount</td>\n",
       "      <td>0.000000</td>\n",
       "    </tr>\n",
       "    <tr>\n",
       "      <th>VendorID</th>\n",
       "      <td>VendorID</td>\n",
       "      <td>0.000000</td>\n",
       "    </tr>\n",
       "    <tr>\n",
       "      <th>extra</th>\n",
       "      <td>extra</td>\n",
       "      <td>0.000000</td>\n",
       "    </tr>\n",
       "    <tr>\n",
       "      <th>lpep_pickup_datetime</th>\n",
       "      <td>lpep_pickup_datetime</td>\n",
       "      <td>0.000000</td>\n",
       "    </tr>\n",
       "    <tr>\n",
       "      <th>trip_distance</th>\n",
       "      <td>trip_distance</td>\n",
       "      <td>0.000000</td>\n",
       "    </tr>\n",
       "    <tr>\n",
       "      <th>DOLocationID</th>\n",
       "      <td>DOLocationID</td>\n",
       "      <td>0.000000</td>\n",
       "    </tr>\n",
       "    <tr>\n",
       "      <th>PULocationID</th>\n",
       "      <td>PULocationID</td>\n",
       "      <td>0.000000</td>\n",
       "    </tr>\n",
       "    <tr>\n",
       "      <th>lpep_dropoff_datetime</th>\n",
       "      <td>lpep_dropoff_datetime</td>\n",
       "      <td>0.000000</td>\n",
       "    </tr>\n",
       "    <tr>\n",
       "      <th>fare_amount</th>\n",
       "      <td>fare_amount</td>\n",
       "      <td>0.000000</td>\n",
       "    </tr>\n",
       "  </tbody>\n",
       "</table>\n",
       "</div>"
      ],
      "text/plain": [
       "                                 column_name  percent_missing\n",
       "trip_type                          trip_type         7.446497\n",
       "congestion_surcharge    congestion_surcharge         7.438782\n",
       "store_and_fwd_flag        store_and_fwd_flag         7.438782\n",
       "RatecodeID                        RatecodeID         7.438782\n",
       "payment_type                    payment_type         7.438782\n",
       "passenger_count              passenger_count         7.438782\n",
       "mta_tax                              mta_tax         0.000000\n",
       "total_amount                    total_amount         0.000000\n",
       "improvement_surcharge  improvement_surcharge         0.000000\n",
       "tolls_amount                    tolls_amount         0.000000\n",
       "tip_amount                        tip_amount         0.000000\n",
       "VendorID                            VendorID         0.000000\n",
       "extra                                  extra         0.000000\n",
       "lpep_pickup_datetime    lpep_pickup_datetime         0.000000\n",
       "trip_distance                  trip_distance         0.000000\n",
       "DOLocationID                    DOLocationID         0.000000\n",
       "PULocationID                    PULocationID         0.000000\n",
       "lpep_dropoff_datetime  lpep_dropoff_datetime         0.000000\n",
       "fare_amount                      fare_amount         0.000000"
      ]
     },
     "execution_count": 10,
     "metadata": {},
     "output_type": "execute_result"
    }
   ],
   "source": [
    "missing_value_df.sort_values(by = 'percent_missing',ascending=False)"
   ]
  },
  {
   "cell_type": "code",
   "execution_count": 11,
   "id": "1d15e4b4",
   "metadata": {},
   "outputs": [
    {
     "data": {
      "text/plain": [
       "1.0    58270\n",
       "NaN     4826\n",
       "2.0     1713\n",
       "Name: trip_type, dtype: int64"
      ]
     },
     "execution_count": 11,
     "metadata": {},
     "output_type": "execute_result"
    }
   ],
   "source": [
    "df.trip_type.value_counts(dropna=False)"
   ]
  },
  {
   "cell_type": "code",
   "execution_count": 12,
   "id": "81d31fc6",
   "metadata": {},
   "outputs": [],
   "source": [
    "df.trip_type = df.trip_type.fillna(df.trip_type.value_counts().idxmax())"
   ]
  },
  {
   "cell_type": "code",
   "execution_count": 13,
   "id": "8523980e",
   "metadata": {},
   "outputs": [
    {
     "data": {
      "text/plain": [
       "count    59988.000000\n",
       "mean         0.733793\n",
       "std          1.216754\n",
       "min         -2.750000\n",
       "25%          0.000000\n",
       "50%          0.000000\n",
       "75%          2.750000\n",
       "max          2.750000\n",
       "Name: congestion_surcharge, dtype: float64"
      ]
     },
     "execution_count": 13,
     "metadata": {},
     "output_type": "execute_result"
    }
   ],
   "source": [
    "df.congestion_surcharge.describe()"
   ]
  },
  {
   "cell_type": "code",
   "execution_count": 14,
   "id": "cc7749e2",
   "metadata": {},
   "outputs": [
    {
     "data": {
      "text/plain": [
       "<AxesSubplot:xlabel='congestion_surcharge', ylabel='Density'>"
      ]
     },
     "execution_count": 14,
     "metadata": {},
     "output_type": "execute_result"
    },
    {
     "data": {
      "image/png": "[encoded data removed]",
      "text/plain": [
       "<Figure size 640x480 with 1 Axes>"
      ]
     },
     "metadata": {},
     "output_type": "display_data"
    }
   ],
   "source": [
    "sns.kdeplot(df.congestion_surcharge)"
   ]
  },
  {
   "cell_type": "code",
   "execution_count": 15,
   "id": "91147504",
   "metadata": {},
   "outputs": [
    {
     "data": {
      "text/plain": [
       "1.0520280316494617"
      ]
     },
     "execution_count": 15,
     "metadata": {},
     "output_type": "execute_result"
    }
   ],
   "source": [
    "df.congestion_surcharge.skew()"
   ]
  },
  {
   "cell_type": "code",
   "execution_count": 16,
   "id": "9ba6ebfa",
   "metadata": {},
   "outputs": [],
   "source": [
    "df.congestion_surcharge = df.congestion_surcharge.fillna(df.congestion_surcharge.mean())"
   ]
  },
  {
   "cell_type": "code",
   "execution_count": 17,
   "id": "a751d7f6",
   "metadata": {},
   "outputs": [
    {
     "data": {
      "text/plain": [
       "N       59779\n",
       "None     4821\n",
       "Y         209\n",
       "Name: store_and_fwd_flag, dtype: int64"
      ]
     },
     "execution_count": 17,
     "metadata": {},
     "output_type": "execute_result"
    }
   ],
   "source": [
    "df.store_and_fwd_flag.value_counts(dropna=False)"
   ]
  },
  {
   "cell_type": "code",
   "execution_count": 18,
   "id": "207a2bf3",
   "metadata": {},
   "outputs": [],
   "source": [
    "df.store_and_fwd_flag =df.store_and_fwd_flag.fillna(df.store_and_fwd_flag.value_counts().idxmax())"
   ]
  },
  {
   "cell_type": "code",
   "execution_count": 19,
   "id": "b4dc6380",
   "metadata": {},
   "outputs": [
    {
     "data": {
      "text/plain": [
       "1.0    38549\n",
       "2.0    20844\n",
       "NaN     4821\n",
       "3.0      481\n",
       "4.0      114\n",
       "Name: payment_type, dtype: int64"
      ]
     },
     "execution_count": 19,
     "metadata": {},
     "output_type": "execute_result"
    }
   ],
   "source": [
    "df.payment_type.value_counts(dropna=False)"
   ]
  },
  {
   "cell_type": "code",
   "execution_count": 20,
   "id": "4d0c80c2",
   "metadata": {},
   "outputs": [],
   "source": [
    "df.payment_type = df.payment_type.fillna(df.payment_type.value_counts().idxmax())"
   ]
  },
  {
   "cell_type": "code",
   "execution_count": 21,
   "id": "398d1bc2",
   "metadata": {},
   "outputs": [
    {
     "data": {
      "text/plain": [
       "1.0     57911\n",
       "NaN      4821\n",
       "5.0      1828\n",
       "2.0       154\n",
       "4.0        51\n",
       "3.0        38\n",
       "99.0        5\n",
       "6.0         1\n",
       "Name: RatecodeID, dtype: int64"
      ]
     },
     "execution_count": 21,
     "metadata": {},
     "output_type": "execute_result"
    }
   ],
   "source": [
    "df.RatecodeID.value_counts(dropna=False)"
   ]
  },
  {
   "cell_type": "code",
   "execution_count": 22,
   "id": "4958baaa",
   "metadata": {},
   "outputs": [],
   "source": [
    "df.RatecodeID = df.RatecodeID.fillna(df.RatecodeID.value_counts().idxmax())"
   ]
  },
  {
   "cell_type": "code",
   "execution_count": 23,
   "id": "e5f3a764",
   "metadata": {},
   "outputs": [
    {
     "data": {
      "text/plain": [
       "1.0    51310\n",
       "NaN     4821\n",
       "2.0     4671\n",
       "5.0     1559\n",
       "3.0      896\n",
       "6.0      895\n",
       "0.0      370\n",
       "4.0      282\n",
       "8.0        2\n",
       "7.0        2\n",
       "9.0        1\n",
       "Name: passenger_count, dtype: int64"
      ]
     },
     "execution_count": 23,
     "metadata": {},
     "output_type": "execute_result"
    }
   ],
   "source": [
    "df.passenger_count.value_counts(dropna=False)"
   ]
  },
  {
   "cell_type": "code",
   "execution_count": 24,
   "id": "7268595d",
   "metadata": {},
   "outputs": [
    {
     "data": {
      "text/plain": [
       "<AxesSubplot:xlabel='passenger_count', ylabel='Density'>"
      ]
     },
     "execution_count": 24,
     "metadata": {},
     "output_type": "execute_result"
    },
    {
     "data": {
      "image/png": "[encoded data removed]",
      "text/plain": [
       "<Figure size 640x480 with 1 Axes>"
      ]
     },
     "metadata": {},
     "output_type": "display_data"
    }
   ],
   "source": [
    "sns.kdeplot(df.passenger_count)"
   ]
  },
  {
   "cell_type": "code",
   "execution_count": 25,
   "id": "b98d879d",
   "metadata": {},
   "outputs": [
    {
     "data": {
      "text/plain": [
       "3.631934916426422"
      ]
     },
     "execution_count": 25,
     "metadata": {},
     "output_type": "execute_result"
    }
   ],
   "source": [
    "df.passenger_count.skew()"
   ]
  },
  {
   "cell_type": "code",
   "execution_count": 26,
   "id": "0fe4cfb4",
   "metadata": {},
   "outputs": [],
   "source": [
    "df.passenger_count = df.passenger_count.fillna(np.round(df.passenger_count.mean()))"
   ]
  },
  {
   "cell_type": "code",
   "execution_count": 27,
   "id": "a3cdfffb",
   "metadata": {},
   "outputs": [],
   "source": [
    "df['Duration'] = df.lpep_dropoff_datetime-df.lpep_pickup_datetime"
   ]
  },
  {
   "cell_type": "code",
   "execution_count": 28,
   "id": "dfed981b",
   "metadata": {},
   "outputs": [
    {
     "data": {
      "text/plain": [
       "dtype('<m8[ns]')"
      ]
     },
     "execution_count": 28,
     "metadata": {},
     "output_type": "execute_result"
    }
   ],
   "source": [
    "df.Duration.dtypes"
   ]
  },
  {
   "cell_type": "code",
   "execution_count": 29,
   "id": "55498307",
   "metadata": {},
   "outputs": [],
   "source": [
    "df.Duration = df.Duration.dt.total_seconds()"
   ]
  },
  {
   "cell_type": "code",
   "execution_count": 30,
   "id": "c94b5a41",
   "metadata": {},
   "outputs": [
    {
     "data": {
      "text/plain": [
       "Index(['VendorID', 'lpep_pickup_datetime', 'lpep_dropoff_datetime',\n",
       "       'store_and_fwd_flag', 'RatecodeID', 'PULocationID', 'DOLocationID',\n",
       "       'passenger_count', 'trip_distance', 'fare_amount', 'extra', 'mta_tax',\n",
       "       'tip_amount', 'tolls_amount', 'improvement_surcharge', 'total_amount',\n",
       "       'payment_type', 'trip_type', 'congestion_surcharge', 'Duration'],\n",
       "      dtype='object')"
      ]
     },
     "execution_count": 30,
     "metadata": {},
     "output_type": "execute_result"
    }
   ],
   "source": [
    "df.columns"
   ]
  },
  {
   "cell_type": "code",
   "execution_count": 31,
   "id": "73c2740a",
   "metadata": {},
   "outputs": [
    {
     "data": {
      "text/html": [
       "<div>\n",
       "<style scoped>\n",
       "    .dataframe tbody tr th:only-of-type {\n",
       "        vertical-align: middle;\n",
       "    }\n",
       "\n",
       "    .dataframe tbody tr th {\n",
       "        vertical-align: top;\n",
       "    }\n",
       "\n",
       "    .dataframe thead th {\n",
       "        text-align: right;\n",
       "    }\n",
       "</style>\n",
       "<table border=\"1\" class=\"dataframe\">\n",
       "  <thead>\n",
       "    <tr style=\"text-align: right;\">\n",
       "      <th></th>\n",
       "      <th>VendorID</th>\n",
       "      <th>lpep_pickup_datetime</th>\n",
       "      <th>lpep_dropoff_datetime</th>\n",
       "      <th>store_and_fwd_flag</th>\n",
       "      <th>RatecodeID</th>\n",
       "      <th>PULocationID</th>\n",
       "      <th>DOLocationID</th>\n",
       "      <th>passenger_count</th>\n",
       "      <th>trip_distance</th>\n",
       "      <th>fare_amount</th>\n",
       "      <th>extra</th>\n",
       "      <th>mta_tax</th>\n",
       "      <th>tip_amount</th>\n",
       "      <th>tolls_amount</th>\n",
       "      <th>improvement_surcharge</th>\n",
       "      <th>total_amount</th>\n",
       "      <th>payment_type</th>\n",
       "      <th>trip_type</th>\n",
       "      <th>congestion_surcharge</th>\n",
       "      <th>Duration</th>\n",
       "    </tr>\n",
       "  </thead>\n",
       "  <tbody>\n",
       "    <tr>\n",
       "      <th>0</th>\n",
       "      <td>1</td>\n",
       "      <td>2023-02-01 00:46:22</td>\n",
       "      <td>2023-02-01 01:05:57</td>\n",
       "      <td>N</td>\n",
       "      <td>1.0</td>\n",
       "      <td>74</td>\n",
       "      <td>265</td>\n",
       "      <td>1.0</td>\n",
       "      <td>10.80</td>\n",
       "      <td>42.90</td>\n",
       "      <td>1.0</td>\n",
       "      <td>1.5</td>\n",
       "      <td>0.00</td>\n",
       "      <td>0.0</td>\n",
       "      <td>1.0</td>\n",
       "      <td>45.40</td>\n",
       "      <td>2.0</td>\n",
       "      <td>1.0</td>\n",
       "      <td>0.000000</td>\n",
       "      <td>1175.0</td>\n",
       "    </tr>\n",
       "    <tr>\n",
       "      <th>1</th>\n",
       "      <td>2</td>\n",
       "      <td>2023-02-01 00:05:09</td>\n",
       "      <td>2023-02-01 00:22:42</td>\n",
       "      <td>N</td>\n",
       "      <td>1.0</td>\n",
       "      <td>216</td>\n",
       "      <td>196</td>\n",
       "      <td>1.0</td>\n",
       "      <td>4.76</td>\n",
       "      <td>23.30</td>\n",
       "      <td>1.0</td>\n",
       "      <td>0.5</td>\n",
       "      <td>0.00</td>\n",
       "      <td>0.0</td>\n",
       "      <td>1.0</td>\n",
       "      <td>25.80</td>\n",
       "      <td>2.0</td>\n",
       "      <td>1.0</td>\n",
       "      <td>0.000000</td>\n",
       "      <td>1053.0</td>\n",
       "    </tr>\n",
       "    <tr>\n",
       "      <th>2</th>\n",
       "      <td>2</td>\n",
       "      <td>2023-02-01 00:03:47</td>\n",
       "      <td>2023-02-01 00:27:30</td>\n",
       "      <td>N</td>\n",
       "      <td>1.0</td>\n",
       "      <td>7</td>\n",
       "      <td>114</td>\n",
       "      <td>1.0</td>\n",
       "      <td>6.32</td>\n",
       "      <td>30.30</td>\n",
       "      <td>1.0</td>\n",
       "      <td>0.5</td>\n",
       "      <td>8.89</td>\n",
       "      <td>0.0</td>\n",
       "      <td>1.0</td>\n",
       "      <td>44.44</td>\n",
       "      <td>1.0</td>\n",
       "      <td>1.0</td>\n",
       "      <td>2.750000</td>\n",
       "      <td>1423.0</td>\n",
       "    </tr>\n",
       "    <tr>\n",
       "      <th>3</th>\n",
       "      <td>2</td>\n",
       "      <td>2023-01-31 23:30:56</td>\n",
       "      <td>2023-01-31 23:51:40</td>\n",
       "      <td>N</td>\n",
       "      <td>1.0</td>\n",
       "      <td>74</td>\n",
       "      <td>239</td>\n",
       "      <td>1.0</td>\n",
       "      <td>3.50</td>\n",
       "      <td>16.30</td>\n",
       "      <td>1.0</td>\n",
       "      <td>0.5</td>\n",
       "      <td>0.00</td>\n",
       "      <td>0.0</td>\n",
       "      <td>1.0</td>\n",
       "      <td>21.55</td>\n",
       "      <td>2.0</td>\n",
       "      <td>1.0</td>\n",
       "      <td>2.750000</td>\n",
       "      <td>1244.0</td>\n",
       "    </tr>\n",
       "    <tr>\n",
       "      <th>4</th>\n",
       "      <td>2</td>\n",
       "      <td>2023-02-01 00:15:05</td>\n",
       "      <td>2023-02-01 00:26:02</td>\n",
       "      <td>N</td>\n",
       "      <td>1.0</td>\n",
       "      <td>82</td>\n",
       "      <td>223</td>\n",
       "      <td>1.0</td>\n",
       "      <td>3.14</td>\n",
       "      <td>17.00</td>\n",
       "      <td>1.0</td>\n",
       "      <td>0.5</td>\n",
       "      <td>0.00</td>\n",
       "      <td>0.0</td>\n",
       "      <td>1.0</td>\n",
       "      <td>19.50</td>\n",
       "      <td>2.0</td>\n",
       "      <td>1.0</td>\n",
       "      <td>0.000000</td>\n",
       "      <td>657.0</td>\n",
       "    </tr>\n",
       "    <tr>\n",
       "      <th>...</th>\n",
       "      <td>...</td>\n",
       "      <td>...</td>\n",
       "      <td>...</td>\n",
       "      <td>...</td>\n",
       "      <td>...</td>\n",
       "      <td>...</td>\n",
       "      <td>...</td>\n",
       "      <td>...</td>\n",
       "      <td>...</td>\n",
       "      <td>...</td>\n",
       "      <td>...</td>\n",
       "      <td>...</td>\n",
       "      <td>...</td>\n",
       "      <td>...</td>\n",
       "      <td>...</td>\n",
       "      <td>...</td>\n",
       "      <td>...</td>\n",
       "      <td>...</td>\n",
       "      <td>...</td>\n",
       "      <td>...</td>\n",
       "    </tr>\n",
       "    <tr>\n",
       "      <th>64804</th>\n",
       "      <td>2</td>\n",
       "      <td>2023-02-28 21:49:00</td>\n",
       "      <td>2023-02-28 22:04:00</td>\n",
       "      <td>N</td>\n",
       "      <td>1.0</td>\n",
       "      <td>7</td>\n",
       "      <td>263</td>\n",
       "      <td>1.0</td>\n",
       "      <td>3.83</td>\n",
       "      <td>16.70</td>\n",
       "      <td>0.0</td>\n",
       "      <td>0.0</td>\n",
       "      <td>2.00</td>\n",
       "      <td>0.0</td>\n",
       "      <td>1.0</td>\n",
       "      <td>22.45</td>\n",
       "      <td>1.0</td>\n",
       "      <td>1.0</td>\n",
       "      <td>0.733793</td>\n",
       "      <td>900.0</td>\n",
       "    </tr>\n",
       "    <tr>\n",
       "      <th>64805</th>\n",
       "      <td>2</td>\n",
       "      <td>2023-02-28 21:05:00</td>\n",
       "      <td>2023-02-28 21:08:00</td>\n",
       "      <td>N</td>\n",
       "      <td>1.0</td>\n",
       "      <td>41</td>\n",
       "      <td>42</td>\n",
       "      <td>1.0</td>\n",
       "      <td>0.67</td>\n",
       "      <td>12.95</td>\n",
       "      <td>0.0</td>\n",
       "      <td>0.0</td>\n",
       "      <td>2.79</td>\n",
       "      <td>0.0</td>\n",
       "      <td>1.0</td>\n",
       "      <td>16.74</td>\n",
       "      <td>1.0</td>\n",
       "      <td>1.0</td>\n",
       "      <td>0.733793</td>\n",
       "      <td>180.0</td>\n",
       "    </tr>\n",
       "    <tr>\n",
       "      <th>64806</th>\n",
       "      <td>2</td>\n",
       "      <td>2023-02-28 22:42:00</td>\n",
       "      <td>2023-02-28 22:59:00</td>\n",
       "      <td>N</td>\n",
       "      <td>1.0</td>\n",
       "      <td>166</td>\n",
       "      <td>141</td>\n",
       "      <td>1.0</td>\n",
       "      <td>3.91</td>\n",
       "      <td>19.60</td>\n",
       "      <td>0.0</td>\n",
       "      <td>0.0</td>\n",
       "      <td>3.50</td>\n",
       "      <td>0.0</td>\n",
       "      <td>1.0</td>\n",
       "      <td>26.85</td>\n",
       "      <td>1.0</td>\n",
       "      <td>1.0</td>\n",
       "      <td>0.733793</td>\n",
       "      <td>1020.0</td>\n",
       "    </tr>\n",
       "    <tr>\n",
       "      <th>64807</th>\n",
       "      <td>2</td>\n",
       "      <td>2023-02-28 23:21:00</td>\n",
       "      <td>2023-02-28 23:38:00</td>\n",
       "      <td>N</td>\n",
       "      <td>1.0</td>\n",
       "      <td>41</td>\n",
       "      <td>244</td>\n",
       "      <td>1.0</td>\n",
       "      <td>4.54</td>\n",
       "      <td>19.36</td>\n",
       "      <td>0.0</td>\n",
       "      <td>0.0</td>\n",
       "      <td>4.07</td>\n",
       "      <td>0.0</td>\n",
       "      <td>1.0</td>\n",
       "      <td>24.43</td>\n",
       "      <td>1.0</td>\n",
       "      <td>1.0</td>\n",
       "      <td>0.733793</td>\n",
       "      <td>1020.0</td>\n",
       "    </tr>\n",
       "    <tr>\n",
       "      <th>64808</th>\n",
       "      <td>2</td>\n",
       "      <td>2023-02-28 23:10:00</td>\n",
       "      <td>2023-02-28 23:15:00</td>\n",
       "      <td>N</td>\n",
       "      <td>1.0</td>\n",
       "      <td>75</td>\n",
       "      <td>140</td>\n",
       "      <td>1.0</td>\n",
       "      <td>2.61</td>\n",
       "      <td>13.18</td>\n",
       "      <td>0.0</td>\n",
       "      <td>0.0</td>\n",
       "      <td>3.39</td>\n",
       "      <td>0.0</td>\n",
       "      <td>1.0</td>\n",
       "      <td>20.32</td>\n",
       "      <td>1.0</td>\n",
       "      <td>1.0</td>\n",
       "      <td>0.733793</td>\n",
       "      <td>300.0</td>\n",
       "    </tr>\n",
       "  </tbody>\n",
       "</table>\n",
       "<p>64809 rows × 20 columns</p>\n",
       "</div>"
      ],
      "text/plain": [
       "       VendorID lpep_pickup_datetime lpep_dropoff_datetime store_and_fwd_flag  \\\n",
       "0             1  2023-02-01 00:46:22   2023-02-01 01:05:57                  N   \n",
       "1             2  2023-02-01 00:05:09   2023-02-01 00:22:42                  N   \n",
       "2             2  2023-02-01 00:03:47   2023-02-01 00:27:30                  N   \n",
       "3             2  2023-01-31 23:30:56   2023-01-31 23:51:40                  N   \n",
       "4             2  2023-02-01 00:15:05   2023-02-01 00:26:02                  N   \n",
       "...         ...                  ...                   ...                ...   \n",
       "64804         2  2023-02-28 21:49:00   2023-02-28 22:04:00                  N   \n",
       "64805         2  2023-02-28 21:05:00   2023-02-28 21:08:00                  N   \n",
       "64806         2  2023-02-28 22:42:00   2023-02-28 22:59:00                  N   \n",
       "64807         2  2023-02-28 23:21:00   2023-02-28 23:38:00                  N   \n",
       "64808         2  2023-02-28 23:10:00   2023-02-28 23:15:00                  N   \n",
       "\n",
       "       RatecodeID  PULocationID  DOLocationID  passenger_count  trip_distance  \\\n",
       "0             1.0            74           265              1.0          10.80   \n",
       "1             1.0           216           196              1.0           4.76   \n",
       "2             1.0             7           114              1.0           6.32   \n",
       "3             1.0            74           239              1.0           3.50   \n",
       "4             1.0            82           223              1.0           3.14   \n",
       "...           ...           ...           ...              ...            ...   \n",
       "64804         1.0             7           263              1.0           3.83   \n",
       "64805         1.0            41            42              1.0           0.67   \n",
       "64806         1.0           166           141              1.0           3.91   \n",
       "64807         1.0            41           244              1.0           4.54   \n",
       "64808         1.0            75           140              1.0           2.61   \n",
       "\n",
       "       fare_amount  extra  mta_tax  tip_amount  tolls_amount  \\\n",
       "0            42.90    1.0      1.5        0.00           0.0   \n",
       "1            23.30    1.0      0.5        0.00           0.0   \n",
       "2            30.30    1.0      0.5        8.89           0.0   \n",
       "3            16.30    1.0      0.5        0.00           0.0   \n",
       "4            17.00    1.0      0.5        0.00           0.0   \n",
       "...            ...    ...      ...         ...           ...   \n",
       "64804        16.70    0.0      0.0        2.00           0.0   \n",
       "64805        12.95    0.0      0.0        2.79           0.0   \n",
       "64806        19.60    0.0      0.0        3.50           0.0   \n",
       "64807        19.36    0.0      0.0        4.07           0.0   \n",
       "64808        13.18    0.0      0.0        3.39           0.0   \n",
       "\n",
       "       improvement_surcharge  total_amount  payment_type  trip_type  \\\n",
       "0                        1.0         45.40           2.0        1.0   \n",
       "1                        1.0         25.80           2.0        1.0   \n",
       "2                        1.0         44.44           1.0        1.0   \n",
       "3                        1.0         21.55           2.0        1.0   \n",
       "4                        1.0         19.50           2.0        1.0   \n",
       "...                      ...           ...           ...        ...   \n",
       "64804                    1.0         22.45           1.0        1.0   \n",
       "64805                    1.0         16.74           1.0        1.0   \n",
       "64806                    1.0         26.85           1.0        1.0   \n",
       "64807                    1.0         24.43           1.0        1.0   \n",
       "64808                    1.0         20.32           1.0        1.0   \n",
       "\n",
       "       congestion_surcharge  Duration  \n",
       "0                  0.000000    1175.0  \n",
       "1                  0.000000    1053.0  \n",
       "2                  2.750000    1423.0  \n",
       "3                  2.750000    1244.0  \n",
       "4                  0.000000     657.0  \n",
       "...                     ...       ...  \n",
       "64804              0.733793     900.0  \n",
       "64805              0.733793     180.0  \n",
       "64806              0.733793    1020.0  \n",
       "64807              0.733793    1020.0  \n",
       "64808              0.733793     300.0  \n",
       "\n",
       "[64809 rows x 20 columns]"
      ]
     },
     "execution_count": 31,
     "metadata": {},
     "output_type": "execute_result"
    }
   ],
   "source": [
    "df"
   ]
  },
  {
   "cell_type": "code",
   "execution_count": 32,
   "id": "8f2b86ca",
   "metadata": {},
   "outputs": [
    {
     "data": {
      "text/plain": [
       "Index(['VendorID', 'lpep_pickup_datetime', 'lpep_dropoff_datetime',\n",
       "       'store_and_fwd_flag', 'RatecodeID', 'PULocationID', 'DOLocationID',\n",
       "       'passenger_count', 'trip_distance', 'fare_amount', 'extra', 'mta_tax',\n",
       "       'tip_amount', 'tolls_amount', 'improvement_surcharge', 'total_amount',\n",
       "       'payment_type', 'trip_type', 'congestion_surcharge', 'Duration'],\n",
       "      dtype='object')"
      ]
     },
     "execution_count": 32,
     "metadata": {},
     "output_type": "execute_result"
    }
   ],
   "source": [
    "df.columns"
   ]
  },
  {
   "cell_type": "code",
   "execution_count": 33,
   "id": "83b1f4eb",
   "metadata": {},
   "outputs": [],
   "source": [
    "df['hour'] = df.lpep_dropoff_datetime.dt.hour"
   ]
  },
  {
   "cell_type": "code",
   "execution_count": 34,
   "id": "fe5366ee",
   "metadata": {},
   "outputs": [],
   "source": [
    "df['Weekday'] = df.lpep_pickup_datetime.dt.weekday"
   ]
  },
  {
   "cell_type": "code",
   "execution_count": 35,
   "id": "9fdd7bd8",
   "metadata": {},
   "outputs": [
    {
     "data": {
      "image/png": "[encoded data removed]",
      "text/plain": [
       "<Figure size 640x480 with 1 Axes>"
      ]
     },
     "metadata": {},
     "output_type": "display_data"
    }
   ],
   "source": [
    "ax = df.VendorID.groupby(df.hour).count().plot(kind= 'bar')\n",
    "for i in ax.containers:\n",
    "    ax.bar_label(i,fontsize = 6)"
   ]
  },
  {
   "cell_type": "code",
   "execution_count": 36,
   "id": "52db3ad3",
   "metadata": {},
   "outputs": [
    {
     "data": {
      "image/png": "[encoded data removed]",
      "text/plain": [
       "<Figure size 640x480 with 1 Axes>"
      ]
     },
     "metadata": {},
     "output_type": "display_data"
    }
   ],
   "source": [
    "ax = df.total_amount.groupby(df.Weekday).count().plot(kind= 'bar')\n",
    "for i in ax.containers:\n",
    "    ax.bar_label(i,fontsize = 6)"
   ]
  },
  {
   "cell_type": "code",
   "execution_count": 37,
   "id": "99f84673",
   "metadata": {},
   "outputs": [
    {
     "data": {
      "image/png": "[encoded data removed]",
      "text/plain": [
       "<Figure size 1000x600 with 1 Axes>"
      ]
     },
     "metadata": {},
     "output_type": "display_data"
    }
   ],
   "source": [
    "plt.figure(figsize=(10,6))\n",
    "ax = df.tip_amount.groupby(df.hour).mean().sort_values(ascending=False).plot(kind= 'bar')\n",
    "for i in ax.containers:\n",
    "    ax.bar_label(i,fontsize = 6)"
   ]
  },
  {
   "cell_type": "code",
   "execution_count": 38,
   "id": "e6e591e0",
   "metadata": {},
   "outputs": [
    {
     "data": {
      "text/html": [
       "<div>\n",
       "<style scoped>\n",
       "    .dataframe tbody tr th:only-of-type {\n",
       "        vertical-align: middle;\n",
       "    }\n",
       "\n",
       "    .dataframe tbody tr th {\n",
       "        vertical-align: top;\n",
       "    }\n",
       "\n",
       "    .dataframe thead th {\n",
       "        text-align: right;\n",
       "    }\n",
       "</style>\n",
       "<table border=\"1\" class=\"dataframe\">\n",
       "  <thead>\n",
       "    <tr style=\"text-align: right;\">\n",
       "      <th></th>\n",
       "      <th>VendorID</th>\n",
       "      <th>lpep_pickup_datetime</th>\n",
       "      <th>lpep_dropoff_datetime</th>\n",
       "      <th>store_and_fwd_flag</th>\n",
       "      <th>RatecodeID</th>\n",
       "      <th>PULocationID</th>\n",
       "      <th>DOLocationID</th>\n",
       "      <th>passenger_count</th>\n",
       "      <th>trip_distance</th>\n",
       "      <th>fare_amount</th>\n",
       "      <th>...</th>\n",
       "      <th>tip_amount</th>\n",
       "      <th>tolls_amount</th>\n",
       "      <th>improvement_surcharge</th>\n",
       "      <th>total_amount</th>\n",
       "      <th>payment_type</th>\n",
       "      <th>trip_type</th>\n",
       "      <th>congestion_surcharge</th>\n",
       "      <th>Duration</th>\n",
       "      <th>hour</th>\n",
       "      <th>Weekday</th>\n",
       "    </tr>\n",
       "  </thead>\n",
       "  <tbody>\n",
       "    <tr>\n",
       "      <th>0</th>\n",
       "      <td>1</td>\n",
       "      <td>2023-02-01 00:46:22</td>\n",
       "      <td>2023-02-01 01:05:57</td>\n",
       "      <td>N</td>\n",
       "      <td>1.0</td>\n",
       "      <td>74</td>\n",
       "      <td>265</td>\n",
       "      <td>1.0</td>\n",
       "      <td>10.80</td>\n",
       "      <td>42.90</td>\n",
       "      <td>...</td>\n",
       "      <td>0.00</td>\n",
       "      <td>0.0</td>\n",
       "      <td>1.0</td>\n",
       "      <td>45.40</td>\n",
       "      <td>2.0</td>\n",
       "      <td>1.0</td>\n",
       "      <td>0.000000</td>\n",
       "      <td>1175.0</td>\n",
       "      <td>1</td>\n",
       "      <td>2</td>\n",
       "    </tr>\n",
       "    <tr>\n",
       "      <th>1</th>\n",
       "      <td>2</td>\n",
       "      <td>2023-02-01 00:05:09</td>\n",
       "      <td>2023-02-01 00:22:42</td>\n",
       "      <td>N</td>\n",
       "      <td>1.0</td>\n",
       "      <td>216</td>\n",
       "      <td>196</td>\n",
       "      <td>1.0</td>\n",
       "      <td>4.76</td>\n",
       "      <td>23.30</td>\n",
       "      <td>...</td>\n",
       "      <td>0.00</td>\n",
       "      <td>0.0</td>\n",
       "      <td>1.0</td>\n",
       "      <td>25.80</td>\n",
       "      <td>2.0</td>\n",
       "      <td>1.0</td>\n",
       "      <td>0.000000</td>\n",
       "      <td>1053.0</td>\n",
       "      <td>0</td>\n",
       "      <td>2</td>\n",
       "    </tr>\n",
       "    <tr>\n",
       "      <th>2</th>\n",
       "      <td>2</td>\n",
       "      <td>2023-02-01 00:03:47</td>\n",
       "      <td>2023-02-01 00:27:30</td>\n",
       "      <td>N</td>\n",
       "      <td>1.0</td>\n",
       "      <td>7</td>\n",
       "      <td>114</td>\n",
       "      <td>1.0</td>\n",
       "      <td>6.32</td>\n",
       "      <td>30.30</td>\n",
       "      <td>...</td>\n",
       "      <td>8.89</td>\n",
       "      <td>0.0</td>\n",
       "      <td>1.0</td>\n",
       "      <td>44.44</td>\n",
       "      <td>1.0</td>\n",
       "      <td>1.0</td>\n",
       "      <td>2.750000</td>\n",
       "      <td>1423.0</td>\n",
       "      <td>0</td>\n",
       "      <td>2</td>\n",
       "    </tr>\n",
       "    <tr>\n",
       "      <th>3</th>\n",
       "      <td>2</td>\n",
       "      <td>2023-01-31 23:30:56</td>\n",
       "      <td>2023-01-31 23:51:40</td>\n",
       "      <td>N</td>\n",
       "      <td>1.0</td>\n",
       "      <td>74</td>\n",
       "      <td>239</td>\n",
       "      <td>1.0</td>\n",
       "      <td>3.50</td>\n",
       "      <td>16.30</td>\n",
       "      <td>...</td>\n",
       "      <td>0.00</td>\n",
       "      <td>0.0</td>\n",
       "      <td>1.0</td>\n",
       "      <td>21.55</td>\n",
       "      <td>2.0</td>\n",
       "      <td>1.0</td>\n",
       "      <td>2.750000</td>\n",
       "      <td>1244.0</td>\n",
       "      <td>23</td>\n",
       "      <td>1</td>\n",
       "    </tr>\n",
       "    <tr>\n",
       "      <th>4</th>\n",
       "      <td>2</td>\n",
       "      <td>2023-02-01 00:15:05</td>\n",
       "      <td>2023-02-01 00:26:02</td>\n",
       "      <td>N</td>\n",
       "      <td>1.0</td>\n",
       "      <td>82</td>\n",
       "      <td>223</td>\n",
       "      <td>1.0</td>\n",
       "      <td>3.14</td>\n",
       "      <td>17.00</td>\n",
       "      <td>...</td>\n",
       "      <td>0.00</td>\n",
       "      <td>0.0</td>\n",
       "      <td>1.0</td>\n",
       "      <td>19.50</td>\n",
       "      <td>2.0</td>\n",
       "      <td>1.0</td>\n",
       "      <td>0.000000</td>\n",
       "      <td>657.0</td>\n",
       "      <td>0</td>\n",
       "      <td>2</td>\n",
       "    </tr>\n",
       "    <tr>\n",
       "      <th>...</th>\n",
       "      <td>...</td>\n",
       "      <td>...</td>\n",
       "      <td>...</td>\n",
       "      <td>...</td>\n",
       "      <td>...</td>\n",
       "      <td>...</td>\n",
       "      <td>...</td>\n",
       "      <td>...</td>\n",
       "      <td>...</td>\n",
       "      <td>...</td>\n",
       "      <td>...</td>\n",
       "      <td>...</td>\n",
       "      <td>...</td>\n",
       "      <td>...</td>\n",
       "      <td>...</td>\n",
       "      <td>...</td>\n",
       "      <td>...</td>\n",
       "      <td>...</td>\n",
       "      <td>...</td>\n",
       "      <td>...</td>\n",
       "      <td>...</td>\n",
       "    </tr>\n",
       "    <tr>\n",
       "      <th>64804</th>\n",
       "      <td>2</td>\n",
       "      <td>2023-02-28 21:49:00</td>\n",
       "      <td>2023-02-28 22:04:00</td>\n",
       "      <td>N</td>\n",
       "      <td>1.0</td>\n",
       "      <td>7</td>\n",
       "      <td>263</td>\n",
       "      <td>1.0</td>\n",
       "      <td>3.83</td>\n",
       "      <td>16.70</td>\n",
       "      <td>...</td>\n",
       "      <td>2.00</td>\n",
       "      <td>0.0</td>\n",
       "      <td>1.0</td>\n",
       "      <td>22.45</td>\n",
       "      <td>1.0</td>\n",
       "      <td>1.0</td>\n",
       "      <td>0.733793</td>\n",
       "      <td>900.0</td>\n",
       "      <td>22</td>\n",
       "      <td>1</td>\n",
       "    </tr>\n",
       "    <tr>\n",
       "      <th>64805</th>\n",
       "      <td>2</td>\n",
       "      <td>2023-02-28 21:05:00</td>\n",
       "      <td>2023-02-28 21:08:00</td>\n",
       "      <td>N</td>\n",
       "      <td>1.0</td>\n",
       "      <td>41</td>\n",
       "      <td>42</td>\n",
       "      <td>1.0</td>\n",
       "      <td>0.67</td>\n",
       "      <td>12.95</td>\n",
       "      <td>...</td>\n",
       "      <td>2.79</td>\n",
       "      <td>0.0</td>\n",
       "      <td>1.0</td>\n",
       "      <td>16.74</td>\n",
       "      <td>1.0</td>\n",
       "      <td>1.0</td>\n",
       "      <td>0.733793</td>\n",
       "      <td>180.0</td>\n",
       "      <td>21</td>\n",
       "      <td>1</td>\n",
       "    </tr>\n",
       "    <tr>\n",
       "      <th>64806</th>\n",
       "      <td>2</td>\n",
       "      <td>2023-02-28 22:42:00</td>\n",
       "      <td>2023-02-28 22:59:00</td>\n",
       "      <td>N</td>\n",
       "      <td>1.0</td>\n",
       "      <td>166</td>\n",
       "      <td>141</td>\n",
       "      <td>1.0</td>\n",
       "      <td>3.91</td>\n",
       "      <td>19.60</td>\n",
       "      <td>...</td>\n",
       "      <td>3.50</td>\n",
       "      <td>0.0</td>\n",
       "      <td>1.0</td>\n",
       "      <td>26.85</td>\n",
       "      <td>1.0</td>\n",
       "      <td>1.0</td>\n",
       "      <td>0.733793</td>\n",
       "      <td>1020.0</td>\n",
       "      <td>22</td>\n",
       "      <td>1</td>\n",
       "    </tr>\n",
       "    <tr>\n",
       "      <th>64807</th>\n",
       "      <td>2</td>\n",
       "      <td>2023-02-28 23:21:00</td>\n",
       "      <td>2023-02-28 23:38:00</td>\n",
       "      <td>N</td>\n",
       "      <td>1.0</td>\n",
       "      <td>41</td>\n",
       "      <td>244</td>\n",
       "      <td>1.0</td>\n",
       "      <td>4.54</td>\n",
       "      <td>19.36</td>\n",
       "      <td>...</td>\n",
       "      <td>4.07</td>\n",
       "      <td>0.0</td>\n",
       "      <td>1.0</td>\n",
       "      <td>24.43</td>\n",
       "      <td>1.0</td>\n",
       "      <td>1.0</td>\n",
       "      <td>0.733793</td>\n",
       "      <td>1020.0</td>\n",
       "      <td>23</td>\n",
       "      <td>1</td>\n",
       "    </tr>\n",
       "    <tr>\n",
       "      <th>64808</th>\n",
       "      <td>2</td>\n",
       "      <td>2023-02-28 23:10:00</td>\n",
       "      <td>2023-02-28 23:15:00</td>\n",
       "      <td>N</td>\n",
       "      <td>1.0</td>\n",
       "      <td>75</td>\n",
       "      <td>140</td>\n",
       "      <td>1.0</td>\n",
       "      <td>2.61</td>\n",
       "      <td>13.18</td>\n",
       "      <td>...</td>\n",
       "      <td>3.39</td>\n",
       "      <td>0.0</td>\n",
       "      <td>1.0</td>\n",
       "      <td>20.32</td>\n",
       "      <td>1.0</td>\n",
       "      <td>1.0</td>\n",
       "      <td>0.733793</td>\n",
       "      <td>300.0</td>\n",
       "      <td>23</td>\n",
       "      <td>1</td>\n",
       "    </tr>\n",
       "  </tbody>\n",
       "</table>\n",
       "<p>64809 rows × 22 columns</p>\n",
       "</div>"
      ],
      "text/plain": [
       "       VendorID lpep_pickup_datetime lpep_dropoff_datetime store_and_fwd_flag  \\\n",
       "0             1  2023-02-01 00:46:22   2023-02-01 01:05:57                  N   \n",
       "1             2  2023-02-01 00:05:09   2023-02-01 00:22:42                  N   \n",
       "2             2  2023-02-01 00:03:47   2023-02-01 00:27:30                  N   \n",
       "3             2  2023-01-31 23:30:56   2023-01-31 23:51:40                  N   \n",
       "4             2  2023-02-01 00:15:05   2023-02-01 00:26:02                  N   \n",
       "...         ...                  ...                   ...                ...   \n",
       "64804         2  2023-02-28 21:49:00   2023-02-28 22:04:00                  N   \n",
       "64805         2  2023-02-28 21:05:00   2023-02-28 21:08:00                  N   \n",
       "64806         2  2023-02-28 22:42:00   2023-02-28 22:59:00                  N   \n",
       "64807         2  2023-02-28 23:21:00   2023-02-28 23:38:00                  N   \n",
       "64808         2  2023-02-28 23:10:00   2023-02-28 23:15:00                  N   \n",
       "\n",
       "       RatecodeID  PULocationID  DOLocationID  passenger_count  trip_distance  \\\n",
       "0             1.0            74           265              1.0          10.80   \n",
       "1             1.0           216           196              1.0           4.76   \n",
       "2             1.0             7           114              1.0           6.32   \n",
       "3             1.0            74           239              1.0           3.50   \n",
       "4             1.0            82           223              1.0           3.14   \n",
       "...           ...           ...           ...              ...            ...   \n",
       "64804         1.0             7           263              1.0           3.83   \n",
       "64805         1.0            41            42              1.0           0.67   \n",
       "64806         1.0           166           141              1.0           3.91   \n",
       "64807         1.0            41           244              1.0           4.54   \n",
       "64808         1.0            75           140              1.0           2.61   \n",
       "\n",
       "       fare_amount  ...  tip_amount  tolls_amount  improvement_surcharge  \\\n",
       "0            42.90  ...        0.00           0.0                    1.0   \n",
       "1            23.30  ...        0.00           0.0                    1.0   \n",
       "2            30.30  ...        8.89           0.0                    1.0   \n",
       "3            16.30  ...        0.00           0.0                    1.0   \n",
       "4            17.00  ...        0.00           0.0                    1.0   \n",
       "...            ...  ...         ...           ...                    ...   \n",
       "64804        16.70  ...        2.00           0.0                    1.0   \n",
       "64805        12.95  ...        2.79           0.0                    1.0   \n",
       "64806        19.60  ...        3.50           0.0                    1.0   \n",
       "64807        19.36  ...        4.07           0.0                    1.0   \n",
       "64808        13.18  ...        3.39           0.0                    1.0   \n",
       "\n",
       "       total_amount  payment_type  trip_type  congestion_surcharge  Duration  \\\n",
       "0             45.40           2.0        1.0              0.000000    1175.0   \n",
       "1             25.80           2.0        1.0              0.000000    1053.0   \n",
       "2             44.44           1.0        1.0              2.750000    1423.0   \n",
       "3             21.55           2.0        1.0              2.750000    1244.0   \n",
       "4             19.50           2.0        1.0              0.000000     657.0   \n",
       "...             ...           ...        ...                   ...       ...   \n",
       "64804         22.45           1.0        1.0              0.733793     900.0   \n",
       "64805         16.74           1.0        1.0              0.733793     180.0   \n",
       "64806         26.85           1.0        1.0              0.733793    1020.0   \n",
       "64807         24.43           1.0        1.0              0.733793    1020.0   \n",
       "64808         20.32           1.0        1.0              0.733793     300.0   \n",
       "\n",
       "       hour  Weekday  \n",
       "0         1        2  \n",
       "1         0        2  \n",
       "2         0        2  \n",
       "3        23        1  \n",
       "4         0        2  \n",
       "...     ...      ...  \n",
       "64804    22        1  \n",
       "64805    21        1  \n",
       "64806    22        1  \n",
       "64807    23        1  \n",
       "64808    23        1  \n",
       "\n",
       "[64809 rows x 22 columns]"
      ]
     },
     "execution_count": 38,
     "metadata": {},
     "output_type": "execute_result"
    }
   ],
   "source": [
    "df"
   ]
  },
  {
   "cell_type": "code",
   "execution_count": 39,
   "id": "a7d4c670",
   "metadata": {},
   "outputs": [
    {
     "data": {
      "text/plain": [
       "Index(['VendorID', 'lpep_pickup_datetime', 'lpep_dropoff_datetime',\n",
       "       'store_and_fwd_flag', 'RatecodeID', 'PULocationID', 'DOLocationID',\n",
       "       'passenger_count', 'trip_distance', 'fare_amount', 'extra', 'mta_tax',\n",
       "       'tip_amount', 'tolls_amount', 'improvement_surcharge', 'total_amount',\n",
       "       'payment_type', 'trip_type', 'congestion_surcharge', 'Duration', 'hour',\n",
       "       'Weekday'],\n",
       "      dtype='object')"
      ]
     },
     "execution_count": 39,
     "metadata": {},
     "output_type": "execute_result"
    }
   ],
   "source": [
    "df.columns"
   ]
  },
  {
   "cell_type": "code",
   "execution_count": 40,
   "id": "dbb8d568",
   "metadata": {},
   "outputs": [],
   "source": [
    "from sklearn.preprocessing import StandardScaler"
   ]
  },
  {
   "cell_type": "code",
   "execution_count": 41,
   "id": "cfb3948d",
   "metadata": {},
   "outputs": [],
   "source": [
    "df[['passenger_count', 'trip_distance', 'fare_amount', 'extra', 'mta_tax',\n",
    "       'tip_amount', 'tolls_amount', 'improvement_surcharge','congestion_surcharge', 'Duration']] =StandardScaler().fit_transform(df[['passenger_count', 'trip_distance', 'fare_amount', 'extra', 'mta_tax',\n",
    "       'tip_amount', 'tolls_amount', 'improvement_surcharge','congestion_surcharge', 'Duration']])"
   ]
  },
  {
   "cell_type": "code",
   "execution_count": 42,
   "id": "a0f0168b",
   "metadata": {},
   "outputs": [
    {
     "data": {
      "text/html": [
       "<div>\n",
       "<style scoped>\n",
       "    .dataframe tbody tr th:only-of-type {\n",
       "        vertical-align: middle;\n",
       "    }\n",
       "\n",
       "    .dataframe tbody tr th {\n",
       "        vertical-align: top;\n",
       "    }\n",
       "\n",
       "    .dataframe thead th {\n",
       "        text-align: right;\n",
       "    }\n",
       "</style>\n",
       "<table border=\"1\" class=\"dataframe\">\n",
       "  <thead>\n",
       "    <tr style=\"text-align: right;\">\n",
       "      <th></th>\n",
       "      <th>VendorID</th>\n",
       "      <th>lpep_pickup_datetime</th>\n",
       "      <th>lpep_dropoff_datetime</th>\n",
       "      <th>store_and_fwd_flag</th>\n",
       "      <th>RatecodeID</th>\n",
       "      <th>PULocationID</th>\n",
       "      <th>DOLocationID</th>\n",
       "      <th>passenger_count</th>\n",
       "      <th>trip_distance</th>\n",
       "      <th>fare_amount</th>\n",
       "      <th>...</th>\n",
       "      <th>tip_amount</th>\n",
       "      <th>tolls_amount</th>\n",
       "      <th>improvement_surcharge</th>\n",
       "      <th>total_amount</th>\n",
       "      <th>payment_type</th>\n",
       "      <th>trip_type</th>\n",
       "      <th>congestion_surcharge</th>\n",
       "      <th>Duration</th>\n",
       "      <th>hour</th>\n",
       "      <th>Weekday</th>\n",
       "    </tr>\n",
       "  </thead>\n",
       "  <tbody>\n",
       "    <tr>\n",
       "      <th>0</th>\n",
       "      <td>1</td>\n",
       "      <td>2023-02-01 00:46:22</td>\n",
       "      <td>2023-02-01 01:05:57</td>\n",
       "      <td>N</td>\n",
       "      <td>1.0</td>\n",
       "      <td>74</td>\n",
       "      <td>265</td>\n",
       "      <td>-0.299231</td>\n",
       "      <td>-0.003110</td>\n",
       "      <td>2.075342</td>\n",
       "      <td>...</td>\n",
       "      <td>-0.756440</td>\n",
       "      <td>-0.157358</td>\n",
       "      <td>0.237099</td>\n",
       "      <td>45.40</td>\n",
       "      <td>2.0</td>\n",
       "      <td>1.0</td>\n",
       "      <td>-0.626844</td>\n",
       "      <td>0.026536</td>\n",
       "      <td>1</td>\n",
       "      <td>2</td>\n",
       "    </tr>\n",
       "    <tr>\n",
       "      <th>1</th>\n",
       "      <td>2</td>\n",
       "      <td>2023-02-01 00:05:09</td>\n",
       "      <td>2023-02-01 00:22:42</td>\n",
       "      <td>N</td>\n",
       "      <td>1.0</td>\n",
       "      <td>216</td>\n",
       "      <td>196</td>\n",
       "      <td>-0.299231</td>\n",
       "      <td>-0.009596</td>\n",
       "      <td>0.525973</td>\n",
       "      <td>...</td>\n",
       "      <td>-0.756440</td>\n",
       "      <td>-0.157358</td>\n",
       "      <td>0.237099</td>\n",
       "      <td>25.80</td>\n",
       "      <td>2.0</td>\n",
       "      <td>1.0</td>\n",
       "      <td>-0.626844</td>\n",
       "      <td>-0.002813</td>\n",
       "      <td>0</td>\n",
       "      <td>2</td>\n",
       "    </tr>\n",
       "    <tr>\n",
       "      <th>2</th>\n",
       "      <td>2</td>\n",
       "      <td>2023-02-01 00:03:47</td>\n",
       "      <td>2023-02-01 00:27:30</td>\n",
       "      <td>N</td>\n",
       "      <td>1.0</td>\n",
       "      <td>7</td>\n",
       "      <td>114</td>\n",
       "      <td>-0.299231</td>\n",
       "      <td>-0.007920</td>\n",
       "      <td>1.079319</td>\n",
       "      <td>...</td>\n",
       "      <td>2.366866</td>\n",
       "      <td>-0.157358</td>\n",
       "      <td>0.237099</td>\n",
       "      <td>44.44</td>\n",
       "      <td>1.0</td>\n",
       "      <td>1.0</td>\n",
       "      <td>1.722350</td>\n",
       "      <td>0.086197</td>\n",
       "      <td>0</td>\n",
       "      <td>2</td>\n",
       "    </tr>\n",
       "    <tr>\n",
       "      <th>3</th>\n",
       "      <td>2</td>\n",
       "      <td>2023-01-31 23:30:56</td>\n",
       "      <td>2023-01-31 23:51:40</td>\n",
       "      <td>N</td>\n",
       "      <td>1.0</td>\n",
       "      <td>74</td>\n",
       "      <td>239</td>\n",
       "      <td>-0.299231</td>\n",
       "      <td>-0.010948</td>\n",
       "      <td>-0.027373</td>\n",
       "      <td>...</td>\n",
       "      <td>-0.756440</td>\n",
       "      <td>-0.157358</td>\n",
       "      <td>0.237099</td>\n",
       "      <td>21.55</td>\n",
       "      <td>2.0</td>\n",
       "      <td>1.0</td>\n",
       "      <td>1.722350</td>\n",
       "      <td>0.043135</td>\n",
       "      <td>23</td>\n",
       "      <td>1</td>\n",
       "    </tr>\n",
       "    <tr>\n",
       "      <th>4</th>\n",
       "      <td>2</td>\n",
       "      <td>2023-02-01 00:15:05</td>\n",
       "      <td>2023-02-01 00:26:02</td>\n",
       "      <td>N</td>\n",
       "      <td>1.0</td>\n",
       "      <td>82</td>\n",
       "      <td>223</td>\n",
       "      <td>-0.299231</td>\n",
       "      <td>-0.011335</td>\n",
       "      <td>0.027962</td>\n",
       "      <td>...</td>\n",
       "      <td>-0.756440</td>\n",
       "      <td>-0.157358</td>\n",
       "      <td>0.237099</td>\n",
       "      <td>19.50</td>\n",
       "      <td>2.0</td>\n",
       "      <td>1.0</td>\n",
       "      <td>-0.626844</td>\n",
       "      <td>-0.098078</td>\n",
       "      <td>0</td>\n",
       "      <td>2</td>\n",
       "    </tr>\n",
       "  </tbody>\n",
       "</table>\n",
       "<p>5 rows × 22 columns</p>\n",
       "</div>"
      ],
      "text/plain": [
       "   VendorID lpep_pickup_datetime lpep_dropoff_datetime store_and_fwd_flag  \\\n",
       "0         1  2023-02-01 00:46:22   2023-02-01 01:05:57                  N   \n",
       "1         2  2023-02-01 00:05:09   2023-02-01 00:22:42                  N   \n",
       "2         2  2023-02-01 00:03:47   2023-02-01 00:27:30                  N   \n",
       "3         2  2023-01-31 23:30:56   2023-01-31 23:51:40                  N   \n",
       "4         2  2023-02-01 00:15:05   2023-02-01 00:26:02                  N   \n",
       "\n",
       "   RatecodeID  PULocationID  DOLocationID  passenger_count  trip_distance  \\\n",
       "0         1.0            74           265        -0.299231      -0.003110   \n",
       "1         1.0           216           196        -0.299231      -0.009596   \n",
       "2         1.0             7           114        -0.299231      -0.007920   \n",
       "3         1.0            74           239        -0.299231      -0.010948   \n",
       "4         1.0            82           223        -0.299231      -0.011335   \n",
       "\n",
       "   fare_amount  ...  tip_amount  tolls_amount  improvement_surcharge  \\\n",
       "0     2.075342  ...   -0.756440     -0.157358               0.237099   \n",
       "1     0.525973  ...   -0.756440     -0.157358               0.237099   \n",
       "2     1.079319  ...    2.366866     -0.157358               0.237099   \n",
       "3    -0.027373  ...   -0.756440     -0.157358               0.237099   \n",
       "4     0.027962  ...   -0.756440     -0.157358               0.237099   \n",
       "\n",
       "   total_amount  payment_type  trip_type  congestion_surcharge  Duration  \\\n",
       "0         45.40           2.0        1.0             -0.626844  0.026536   \n",
       "1         25.80           2.0        1.0             -0.626844 -0.002813   \n",
       "2         44.44           1.0        1.0              1.722350  0.086197   \n",
       "3         21.55           2.0        1.0              1.722350  0.043135   \n",
       "4         19.50           2.0        1.0             -0.626844 -0.098078   \n",
       "\n",
       "   hour  Weekday  \n",
       "0     1        2  \n",
       "1     0        2  \n",
       "2     0        2  \n",
       "3    23        1  \n",
       "4     0        2  \n",
       "\n",
       "[5 rows x 22 columns]"
      ]
     },
     "execution_count": 42,
     "metadata": {},
     "output_type": "execute_result"
    }
   ],
   "source": [
    "df.head()"
   ]
  },
  {
   "cell_type": "code",
   "execution_count": 43,
   "id": "160c96be",
   "metadata": {},
   "outputs": [],
   "source": [
    "from sklearn.preprocessing import LabelEncoder"
   ]
  },
  {
   "cell_type": "code",
   "execution_count": 44,
   "id": "b38aa148",
   "metadata": {},
   "outputs": [
    {
     "data": {
      "text/plain": [
       "Index(['VendorID', 'lpep_pickup_datetime', 'lpep_dropoff_datetime',\n",
       "       'store_and_fwd_flag', 'RatecodeID', 'PULocationID', 'DOLocationID',\n",
       "       'passenger_count', 'trip_distance', 'fare_amount', 'extra', 'mta_tax',\n",
       "       'tip_amount', 'tolls_amount', 'improvement_surcharge', 'total_amount',\n",
       "       'payment_type', 'trip_type', 'congestion_surcharge', 'Duration', 'hour',\n",
       "       'Weekday'],\n",
       "      dtype='object')"
      ]
     },
     "execution_count": 44,
     "metadata": {},
     "output_type": "execute_result"
    }
   ],
   "source": [
    "df.columns"
   ]
  },
  {
   "cell_type": "code",
   "execution_count": 45,
   "id": "25ee5e46",
   "metadata": {},
   "outputs": [],
   "source": [
    "df[['store_and_fwd_flag', 'RatecodeID','payment_type', 'trip_type','Weekday', 'hour']] = df[['store_and_fwd_flag', 'RatecodeID','payment_type', 'trip_type','Weekday', 'hour']].apply(LabelEncoder().fit_transform)"
   ]
  },
  {
   "cell_type": "code",
   "execution_count": 46,
   "id": "edbdb90b",
   "metadata": {},
   "outputs": [
    {
     "data": {
      "text/plain": [
       "Index(['VendorID', 'lpep_pickup_datetime', 'lpep_dropoff_datetime',\n",
       "       'store_and_fwd_flag', 'RatecodeID', 'PULocationID', 'DOLocationID',\n",
       "       'passenger_count', 'trip_distance', 'fare_amount', 'extra', 'mta_tax',\n",
       "       'tip_amount', 'tolls_amount', 'improvement_surcharge', 'total_amount',\n",
       "       'payment_type', 'trip_type', 'congestion_surcharge', 'Duration', 'hour',\n",
       "       'Weekday'],\n",
       "      dtype='object')"
      ]
     },
     "execution_count": 46,
     "metadata": {},
     "output_type": "execute_result"
    }
   ],
   "source": [
    "df.columns"
   ]
  },
  {
   "cell_type": "code",
   "execution_count": 47,
   "id": "84e9c702",
   "metadata": {},
   "outputs": [],
   "source": [
    "X = df.drop(['VendorID','lpep_pickup_datetime','lpep_dropoff_datetime','PULocationID','DOLocationID','total_amount','fare_amount'],axis=1)"
   ]
  },
  {
   "cell_type": "code",
   "execution_count": 48,
   "id": "e37d598d",
   "metadata": {},
   "outputs": [],
   "source": [
    "y = df['total_amount']"
   ]
  },
  {
   "cell_type": "code",
   "execution_count": 49,
   "id": "40cbb4ad",
   "metadata": {},
   "outputs": [
    {
     "data": {
      "text/plain": [
       "<AxesSubplot:xlabel='total_amount', ylabel='Density'>"
      ]
     },
     "execution_count": 49,
     "metadata": {},
     "output_type": "execute_result"
    },
    {
     "data": {
      "image/png": "[encoded data removed]",
      "text/plain": [
       "<Figure size 640x480 with 1 Axes>"
      ]
     },
     "metadata": {},
     "output_type": "display_data"
    }
   ],
   "source": [
    "sns.kdeplot(y)"
   ]
  },
  {
   "cell_type": "code",
   "execution_count": 144,
   "id": "5668a94d",
   "metadata": {},
   "outputs": [
    {
     "data": {
      "text/plain": [
       "3.6786647751047084"
      ]
     },
     "execution_count": 144,
     "metadata": {},
     "output_type": "execute_result"
    }
   ],
   "source": [
    "y.skew()"
   ]
  },
  {
   "cell_type": "code",
   "execution_count": 50,
   "id": "9bdc43be",
   "metadata": {},
   "outputs": [],
   "source": [
    "from sklearn.model_selection import train_test_split"
   ]
  },
  {
   "cell_type": "code",
   "execution_count": 51,
   "id": "5818fc41",
   "metadata": {},
   "outputs": [],
   "source": [
    "X_train, X_test, y_train, y_test = train_test_split(X, y, test_size=0.30,random_state=42)"
   ]
  },
  {
   "cell_type": "code",
   "execution_count": 52,
   "id": "d54078e5",
   "metadata": {},
   "outputs": [],
   "source": [
    "from sklearn.linear_model import LinearRegression"
   ]
  },
  {
   "cell_type": "code",
   "execution_count": 53,
   "id": "6d04e9e6",
   "metadata": {},
   "outputs": [],
   "source": [
    "from sklearn.tree import DecisionTreeRegressor"
   ]
  },
  {
   "cell_type": "code",
   "execution_count": 54,
   "id": "6d958d68",
   "metadata": {},
   "outputs": [],
   "source": [
    "from sklearn.ensemble import RandomForestRegressor, GradientBoostingRegressor"
   ]
  },
  {
   "cell_type": "code",
   "execution_count": 55,
   "id": "39b544ca",
   "metadata": {},
   "outputs": [],
   "source": [
    "lr = LinearRegression()"
   ]
  },
  {
   "cell_type": "code",
   "execution_count": 84,
   "id": "43b9608c",
   "metadata": {},
   "outputs": [],
   "source": [
    "dt = DecisionTreeRegressor(max_depth=6)"
   ]
  },
  {
   "cell_type": "code",
   "execution_count": 122,
   "id": "73b2889a",
   "metadata": {},
   "outputs": [],
   "source": [
    "rf = RandomForestRegressor(n_estimators=1000,max_depth=6)"
   ]
  },
  {
   "cell_type": "code",
   "execution_count": 130,
   "id": "6e95fe69",
   "metadata": {},
   "outputs": [],
   "source": [
    "gb = GradientBoostingRegressor(n_estimators=2000,max_depth=6)"
   ]
  },
  {
   "cell_type": "code",
   "execution_count": 59,
   "id": "39ffbcd6",
   "metadata": {},
   "outputs": [],
   "source": [
    "lr_model = lr.fit(X_train,y_train)"
   ]
  },
  {
   "cell_type": "code",
   "execution_count": 60,
   "id": "8b117c0f",
   "metadata": {},
   "outputs": [
    {
     "data": {
      "text/plain": [
       "0.4549305091438257"
      ]
     },
     "execution_count": 60,
     "metadata": {},
     "output_type": "execute_result"
    }
   ],
   "source": [
    "lr_model.score(X_train,y_train)"
   ]
  },
  {
   "cell_type": "code",
   "execution_count": 62,
   "id": "8e5583b6",
   "metadata": {},
   "outputs": [],
   "source": [
    "from sklearn.model_selection import cross_val_score"
   ]
  },
  {
   "cell_type": "code",
   "execution_count": 63,
   "id": "91f622fc",
   "metadata": {},
   "outputs": [
    {
     "data": {
      "text/plain": [
       "0.4531999812866948"
      ]
     },
     "execution_count": 63,
     "metadata": {},
     "output_type": "execute_result"
    }
   ],
   "source": [
    "np.mean(cross_val_score(lr,X_train,y_train))"
   ]
  },
  {
   "cell_type": "code",
   "execution_count": 64,
   "id": "7b466360",
   "metadata": {},
   "outputs": [],
   "source": [
    "lr_pred = lr_model.predict(X_test)"
   ]
  },
  {
   "cell_type": "code",
   "execution_count": 65,
   "id": "d30a9946",
   "metadata": {},
   "outputs": [],
   "source": [
    "from sklearn.metrics import mean_squared_error"
   ]
  },
  {
   "cell_type": "code",
   "execution_count": 66,
   "id": "06723043",
   "metadata": {},
   "outputs": [
    {
     "data": {
      "text/plain": [
       "10.929524375534923"
      ]
     },
     "execution_count": 66,
     "metadata": {},
     "output_type": "execute_result"
    }
   ],
   "source": [
    "np.sqrt(mean_squared_error(y_test,lr_pred))"
   ]
  },
  {
   "cell_type": "code",
   "execution_count": 85,
   "id": "3db88149",
   "metadata": {},
   "outputs": [],
   "source": [
    "dt_model = dt.fit(X_train,y_train)"
   ]
  },
  {
   "cell_type": "code",
   "execution_count": 86,
   "id": "f42f57d3",
   "metadata": {},
   "outputs": [
    {
     "data": {
      "text/plain": [
       "0.8320158699548026"
      ]
     },
     "execution_count": 86,
     "metadata": {},
     "output_type": "execute_result"
    }
   ],
   "source": [
    "dt_model.score(X_train,y_train)"
   ]
  },
  {
   "cell_type": "code",
   "execution_count": 87,
   "id": "07e39f05",
   "metadata": {},
   "outputs": [
    {
     "data": {
      "text/plain": [
       "0.8022116520646716"
      ]
     },
     "execution_count": 87,
     "metadata": {},
     "output_type": "execute_result"
    }
   ],
   "source": [
    "np.mean(cross_val_score(dt,X_train,y_train))"
   ]
  },
  {
   "cell_type": "code",
   "execution_count": 88,
   "id": "b0fae8e0",
   "metadata": {},
   "outputs": [],
   "source": [
    "dt_pred = dt_model.predict(X_test)"
   ]
  },
  {
   "cell_type": "code",
   "execution_count": 89,
   "id": "9bc5dd8d",
   "metadata": {},
   "outputs": [
    {
     "data": {
      "text/plain": [
       "6.991934580356138"
      ]
     },
     "execution_count": 89,
     "metadata": {},
     "output_type": "execute_result"
    }
   ],
   "source": [
    "np.sqrt(mean_squared_error(y_test,dt_pred))"
   ]
  },
  {
   "cell_type": "code",
   "execution_count": 125,
   "id": "df99dcfb",
   "metadata": {},
   "outputs": [],
   "source": [
    "rf_model = rf.fit(X_train,y_train)"
   ]
  },
  {
   "cell_type": "code",
   "execution_count": 126,
   "id": "4a68636f",
   "metadata": {},
   "outputs": [
    {
     "data": {
      "text/plain": [
       "0.8561641613551056"
      ]
     },
     "execution_count": 126,
     "metadata": {},
     "output_type": "execute_result"
    }
   ],
   "source": [
    "rf_model.score(X_train,y_train)"
   ]
  },
  {
   "cell_type": "code",
   "execution_count": 127,
   "id": "de88311b",
   "metadata": {},
   "outputs": [
    {
     "data": {
      "text/plain": [
       "0.8334372839611612"
      ]
     },
     "execution_count": 127,
     "metadata": {},
     "output_type": "execute_result"
    }
   ],
   "source": [
    "np.mean(cross_val_score(rf,X_train,y_train))"
   ]
  },
  {
   "cell_type": "code",
   "execution_count": 128,
   "id": "53f746e4",
   "metadata": {},
   "outputs": [],
   "source": [
    "rf_pred = rf_model.predict(X_test)"
   ]
  },
  {
   "cell_type": "code",
   "execution_count": 129,
   "id": "d4d5062d",
   "metadata": {},
   "outputs": [
    {
     "data": {
      "text/plain": [
       "6.615746855239133"
      ]
     },
     "execution_count": 129,
     "metadata": {},
     "output_type": "execute_result"
    }
   ],
   "source": [
    "np.sqrt(mean_squared_error(y_test,rf_pred))"
   ]
  },
  {
   "cell_type": "code",
   "execution_count": 136,
   "id": "dd08c493",
   "metadata": {},
   "outputs": [],
   "source": [
    "gb_model = gb.fit(X_train,y_train)"
   ]
  },
  {
   "cell_type": "code",
   "execution_count": 137,
   "id": "d994dca3",
   "metadata": {},
   "outputs": [
    {
     "data": {
      "text/plain": [
       "0.9943280286091561"
      ]
     },
     "execution_count": 137,
     "metadata": {},
     "output_type": "execute_result"
    }
   ],
   "source": [
    "gb_model.score(X_train,y_train)"
   ]
  },
  {
   "cell_type": "code",
   "execution_count": 138,
   "id": "742d149e",
   "metadata": {},
   "outputs": [],
   "source": [
    "gb_pred = gb_model.predict(X_test)"
   ]
  },
  {
   "cell_type": "code",
   "execution_count": 139,
   "id": "a27e9b06",
   "metadata": {},
   "outputs": [
    {
     "data": {
      "text/plain": [
       "5.814754837357235"
      ]
     },
     "execution_count": 139,
     "metadata": {},
     "output_type": "execute_result"
    }
   ],
   "source": [
    "np.sqrt(mean_squared_error(y_test,gb_pred))"
   ]
  },
  {
   "cell_type": "code",
   "execution_count": null,
   "id": "89b2a957",
   "metadata": {},
   "outputs": [],
   "source": []
  }
 ],
 "metadata": {
  "kernelspec": {
   "display_name": "Python 3 (ipykernel)",
   "language": "python",
   "name": "python3"
  },
  "language_info": {
   "codemirror_mode": {
    "name": "ipython",
    "version": 3
   },
   "file_extension": ".py",
   "mimetype": "text/x-python",
   "name": "python",
   "nbconvert_exporter": "python",
   "pygments_lexer": "ipython3",
   "version": "3.10.9"
  }
 },
 "nbformat": 4,
 "nbformat_minor": 5
}
